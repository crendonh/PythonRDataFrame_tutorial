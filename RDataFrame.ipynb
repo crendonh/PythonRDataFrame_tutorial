{
 "cells": [
  {
   "cell_type": "code",
   "execution_count": 1,
   "id": "93488041-01ae-4839-ab35-081a45f1e758",
   "metadata": {},
   "outputs": [
    {
     "name": "stdout",
     "output_type": "stream",
     "text": [
      "Welcome to JupyROOT 6.28/06\n"
     ]
    }
   ],
   "source": [
    "from ROOT import RDataFrame\n",
    "import ROOT\n",
    "import matplotlib.pyplot as plt\n",
    "import awkward as ak\n",
    "import hist\n",
    "import warnings\n",
    "import numpy as np"
   ]
  },
  {
   "cell_type": "code",
   "execution_count": 4,
   "id": "c80cb44c-bdec-4eb4-8a23-4f6a6027f4d5",
   "metadata": {},
   "outputs": [],
   "source": [
    "array_x = ak.Array(\n",
    "    [\n",
    "        {\"x\": [1.1, 1.2, 1.3]},\n",
    "        {\"x\": [2.1, 2.2]},\n",
    "        {\"x\": [3.1]},\n",
    "        {\"x\": [4.1, 4.2, 4.3, 4.4]},\n",
    "        {\"x\": [5.1]},\n",
    "    ]\n",
    ")\n",
    "array_y = ak.Array([1, 2, 3, 4, 5])\n",
    "array_z = ak.Array([[1.1], [2.1, 2.3, 2.4], [3.1], [4.1, 4.2, 4.3], [5.1]])"
   ]
  },
  {
   "cell_type": "code",
   "execution_count": 5,
   "id": "182902dd-2c4a-4980-8e3f-660c8a26bef7",
   "metadata": {},
   "outputs": [],
   "source": [
    "df = ak.to_rdataframe({\"x\": array_x, \"y\": array_y, \"z\": array_z})"
   ]
  },
  {
   "cell_type": "code",
   "execution_count": 6,
   "id": "e399eadd-adb8-4212-8835-1c95c0f71531",
   "metadata": {},
   "outputs": [
    {
     "data": {
      "text/plain": [
       "Dataframe from datasource Custom Datasource\n",
       "\n",
       "Property                Value\n",
       "--------                -----\n",
       "Columns in total            3\n",
       "Columns from defines        0\n",
       "Event loops run             0\n",
       "Processing slots            1\n",
       "\n",
       "Column  Type                            Origin\n",
       "------  ----                            ------\n",
       "x       awkward::Record_5nN4oU1IuF4     Dataset\n",
       "y       int64_t                         Dataset\n",
       "z       ROOT::VecOps::RVec<double>      Dataset"
      ]
     },
     "execution_count": 6,
     "metadata": {},
     "output_type": "execute_result"
    }
   ],
   "source": [
    "df.Describe()"
   ]
  },
  {
   "cell_type": "code",
   "execution_count": 7,
   "id": "e81de127-925c-46ca-bdd9-af5ef3aab5b1",
   "metadata": {},
   "outputs": [
    {
     "name": "stdout",
     "output_type": "stream",
     "text": [
      "+-----+------------+---+-----------+\n",
      "| Row | x          | y | z         | \n",
      "+-----+------------+---+-----------+\n",
      "| 0   | @0xc3009a0 | 1 | 1.1000000 | \n",
      "+-----+------------+---+-----------+\n",
      "| 1   | @0xc3009a0 | 2 | 2.1000000 | \n",
      "|     |            |   | 2.3000000 | \n",
      "|     |            |   | 2.4000000 | \n",
      "+-----+------------+---+-----------+\n",
      "| 2   | @0xc3009a0 | 3 | 3.1000000 | \n",
      "+-----+------------+---+-----------+\n"
     ]
    }
   ],
   "source": [
    "df.Display([\"x\", \"y\", \"z\"], 3).Print()"
   ]
  },
  {
   "cell_type": "code",
   "execution_count": 11,
   "id": "873c71dd-1f99-40dd-83e0-4f19f59c4c17",
   "metadata": {},
   "outputs": [],
   "source": [
    "df1=df.Filter(\"x\", \"solox\")"
   ]
  },
  {
   "cell_type": "code",
   "execution_count": 13,
   "id": "85eef524-d95c-4425-92cf-5e5f7e74ab2f",
   "metadata": {},
   "outputs": [],
   "source": [
    "#df1.Display([\"x\"],2).Print()"
   ]
  },
  {
   "cell_type": "code",
   "execution_count": 11,
   "id": "b5a764e4-8165-4d89-a3ad-dd2ed96de300",
   "metadata": {},
   "outputs": [],
   "source": [
    "h = df.Histo1D(\"z\")"
   ]
  },
  {
   "cell_type": "code",
   "execution_count": 15,
   "id": "22b10d0c-9eab-4fe5-bee5-caaa54ea82fc",
   "metadata": {},
   "outputs": [],
   "source": [
    "c = ROOT.TCanvas(\"c\", \"\", 800, 700)"
   ]
  },
  {
   "cell_type": "code",
   "execution_count": 16,
   "id": "36d1a5fb-4fd9-4578-b398-c876e5feec00",
   "metadata": {},
   "outputs": [],
   "source": [
    "h.Draw()"
   ]
  },
  {
   "cell_type": "code",
   "execution_count": 17,
   "id": "d7657d91-6e7f-4d94-9e10-fc623b1c016c",
   "metadata": {},
   "outputs": [
    {
     "name": "stderr",
     "output_type": "stream",
     "text": [
      "Info in <TCanvas::Print>: pdf file dimuon_spectrum.pdf has been created\n"
     ]
    }
   ],
   "source": [
    "c.SaveAs(\"dimuon_spectrum.pdf\")"
   ]
  },
  {
   "cell_type": "code",
   "execution_count": 25,
   "id": "339e7734-c4ab-4889-990b-3a54e161329b",
   "metadata": {},
   "outputs": [
    {
     "data": {
      "text/html": [
       "<pre>[{x: {x: [1.1, 1.2, 1.3]}},\n",
       " {x: {x: [2.1, 2.2]}},\n",
       " {x: {x: [3.1]}},\n",
       " {x: {x: [4.1, 4.2, 4.3, 4.4]}},\n",
       " {x: {x: [5.1]}}]\n",
       "--------------------------------\n",
       "type: 5 * {\n",
       "    x: {\n",
       "        x: var * float64\n",
       "    }\n",
       "}</pre>"
      ],
      "text/plain": [
       "<Array [{x: {x: [1.1, ...]}}, ..., {...}] type='5 * {x: {x: var * float64}}'>"
      ]
     },
     "execution_count": 25,
     "metadata": {},
     "output_type": "execute_result"
    }
   ],
   "source": [
    "array = ak.from_rdataframe(\n",
    "    df,\n",
    "    columns=(\n",
    "        \"x\",\n",
    "    ),\n",
    ")\n",
    "array"
   ]
  },
  {
   "cell_type": "code",
   "execution_count": 31,
   "id": "a78c8816-e0fd-4ce7-a7f6-1cd4613dbba7",
   "metadata": {},
   "outputs": [
    {
     "data": {
      "text/html": [
       "<pre>[{x: {x: [1.1, 1.2, 1.3]}},\n",
       " {x: {x: [2.1, 2.2]}},\n",
       " {x: {x: [3.1]}},\n",
       " {x: {x: [4.1, 4.2, 4.3, 4.4]}},\n",
       " {x: {x: [5.1]}}]\n",
       "--------------------------------\n",
       "type: 5 * {\n",
       "    x: {\n",
       "        x: var * float64\n",
       "    }\n",
       "}</pre>"
      ],
      "text/plain": [
       "<Array [{x: {x: [1.1, ...]}}, ..., {...}] type='5 * {x: {x: var * float64}}'>"
      ]
     },
     "execution_count": 31,
     "metadata": {},
     "output_type": "execute_result"
    }
   ],
   "source": [
    "array"
   ]
  },
  {
   "cell_type": "code",
   "execution_count": 34,
   "id": "6de8cb02-9d8d-471a-abbd-d702c1e90e87",
   "metadata": {},
   "outputs": [
    {
     "ename": "AttributeError",
     "evalue": "module 'awkward' has no attribute 'first'",
     "output_type": "error",
     "traceback": [
      "\u001b[0;31m---------------------------------------------------------------------------\u001b[0m",
      "\u001b[0;31mAttributeError\u001b[0m                            Traceback (most recent call last)",
      "Cell \u001b[0;32mIn[34], line 1\u001b[0m\n\u001b[0;32m----> 1\u001b[0m array1\u001b[38;5;241m=\u001b[39m\u001b[43mak\u001b[49m\u001b[38;5;241;43m.\u001b[39;49m\u001b[43mfirst\u001b[49m(array\u001b[38;5;241m.\u001b[39mx)\n",
      "\u001b[0;31mAttributeError\u001b[0m: module 'awkward' has no attribute 'first'"
     ]
    }
   ],
   "source": [
    "array1=ak.first(array.x)"
   ]
  },
  {
   "cell_type": "code",
   "execution_count": null,
   "id": "5b176f5e-f624-445e-9edc-788226bd4d2b",
   "metadata": {},
   "outputs": [],
   "source": []
  }
 ],
 "metadata": {
  "kernelspec": {
   "display_name": "Python 3 (ipykernel)",
   "language": "python",
   "name": "python3"
  },
  "language_info": {
   "codemirror_mode": {
    "name": "ipython",
    "version": 3
   },
   "file_extension": ".py",
   "mimetype": "text/x-python",
   "name": "python",
   "nbconvert_exporter": "python",
   "pygments_lexer": "ipython3",
   "version": "3.8.10"
  }
 },
 "nbformat": 4,
 "nbformat_minor": 5
}
